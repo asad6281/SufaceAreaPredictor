{
 "cells": [
  {
   "cell_type": "code",
   "execution_count": 1,
   "id": "3c67b820-38f1-47a4-9032-3e5a6aa80ddb",
   "metadata": {},
   "outputs": [
    {
     "data": {
      "text/html": [
       "<div>\n",
       "<style scoped>\n",
       "    .dataframe tbody tr th:only-of-type {\n",
       "        vertical-align: middle;\n",
       "    }\n",
       "\n",
       "    .dataframe tbody tr th {\n",
       "        vertical-align: top;\n",
       "    }\n",
       "\n",
       "    .dataframe thead th {\n",
       "        text-align: right;\n",
       "    }\n",
       "</style>\n",
       "<table border=\"1\" class=\"dataframe\">\n",
       "  <thead>\n",
       "    <tr style=\"text-align: right;\">\n",
       "      <th></th>\n",
       "      <th>radius</th>\n",
       "      <th>height</th>\n",
       "      <th>surface_area</th>\n",
       "    </tr>\n",
       "  </thead>\n",
       "  <tbody>\n",
       "    <tr>\n",
       "      <th>0</th>\n",
       "      <td>16.636478</td>\n",
       "      <td>58.035766</td>\n",
       "      <td>7805.495210</td>\n",
       "    </tr>\n",
       "    <tr>\n",
       "      <th>1</th>\n",
       "      <td>49.603975</td>\n",
       "      <td>73.259058</td>\n",
       "      <td>38292.840548</td>\n",
       "    </tr>\n",
       "    <tr>\n",
       "      <th>2</th>\n",
       "      <td>45.579235</td>\n",
       "      <td>46.188042</td>\n",
       "      <td>26280.568350</td>\n",
       "    </tr>\n",
       "    <tr>\n",
       "      <th>3</th>\n",
       "      <td>9.640543</td>\n",
       "      <td>63.145754</td>\n",
       "      <td>4408.907500</td>\n",
       "    </tr>\n",
       "    <tr>\n",
       "      <th>4</th>\n",
       "      <td>37.035254</td>\n",
       "      <td>33.251224</td>\n",
       "      <td>16355.619009</td>\n",
       "    </tr>\n",
       "  </tbody>\n",
       "</table>\n",
       "</div>"
      ],
      "text/plain": [
       "      radius     height  surface_area\n",
       "0  16.636478  58.035766   7805.495210\n",
       "1  49.603975  73.259058  38292.840548\n",
       "2  45.579235  46.188042  26280.568350\n",
       "3   9.640543  63.145754   4408.907500\n",
       "4  37.035254  33.251224  16355.619009"
      ]
     },
     "execution_count": 1,
     "metadata": {},
     "output_type": "execute_result"
    }
   ],
   "source": [
    "import numpy as np\n",
    "import pandas as pd\n",
    "from sklearn.model_selection import train_test_split\n",
    "\n",
    "PI = np.pi\n",
    "def generate_dataset(num_samples=10000):\n",
    "  radii = np.random.uniform(1,50,num_samples)\n",
    "  heights = np.random.uniform(1,100,num_samples)\n",
    "\n",
    "  surface_areas = 2 * PI * radii * (radii + heights)\n",
    "\n",
    "  df = pd.DataFrame({\n",
    "      'radius': radii,\n",
    "      'height': heights,\n",
    "      'surface_area':surface_areas\n",
    "  })\n",
    "  return df\n",
    "\n",
    "dataset = generate_dataset()\n",
    "dataset.to_csv('Dataset.csv', index=False)   # Save the dataset to a CSV file\n",
    "dataset.head()"
   ]
  },
  {
   "cell_type": "code",
   "execution_count": 2,
   "id": "19fe0cf8-18be-4930-ae65-fd33744d8c89",
   "metadata": {},
   "outputs": [
    {
     "name": "stdout",
     "output_type": "stream",
     "text": [
      "Training data saved as 'train.csv'\n",
      "Testing data saved as 'test.csv'\n"
     ]
    }
   ],
   "source": [
    "# Splitting data in two files, train and test\n",
    "data = pd.read_csv('Dataset.csv')    # Read the original CSV file into a DataFrame\n",
    "\n",
    "# Split the data into training (80%) and testing (20%)\n",
    "train_data, test_data = train_test_split(data, test_size=0.2, random_state=42)\n",
    "\n",
    "# Define file names for train and test CSV files\n",
    "train_file_name = 'train.csv'\n",
    "test_file_name = 'test.csv'\n",
    "\n",
    "# Save the training and testing sets as separate CSV files\n",
    "train_data.to_csv(train_file_name, index=False)\n",
    "test_data.to_csv(test_file_name, index=False)\n",
    "\n",
    "print(f\"Training data saved as '{train_file_name}'\")\n",
    "print(f\"Testing data saved as '{test_file_name}'\")"
   ]
  }
 ],
 "metadata": {
  "kernelspec": {
   "display_name": "Python 3 (ipykernel)",
   "language": "python",
   "name": "python3"
  },
  "language_info": {
   "codemirror_mode": {
    "name": "ipython",
    "version": 3
   },
   "file_extension": ".py",
   "mimetype": "text/x-python",
   "name": "python",
   "nbconvert_exporter": "python",
   "pygments_lexer": "ipython3",
   "version": "3.10.2"
  }
 },
 "nbformat": 4,
 "nbformat_minor": 5
}
